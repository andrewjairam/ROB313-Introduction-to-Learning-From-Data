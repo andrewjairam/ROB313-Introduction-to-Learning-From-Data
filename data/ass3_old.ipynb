{
 "cells": [
  {
   "attachments": {},
   "cell_type": "markdown",
   "metadata": {},
   "source": [
    "IMPORT DATASETS"
   ]
  },
  {
   "cell_type": "code",
   "execution_count": 1,
   "metadata": {},
   "outputs": [],
   "source": [
    "import numpy as np\n",
    "import matplotlib as mpl\n",
    "import matplotlib.pyplot as plt\n",
    "import scipy\n",
    "from sklearn.neighbors._kd_tree import KDTree\n",
    "import time\n",
    "from data_utils import load_dataset\n"
   ]
  },
  {
   "attachments": {},
   "cell_type": "markdown",
   "metadata": {},
   "source": [
    "### Test"
   ]
  },
  {
   "cell_type": "code",
   "execution_count": 50,
   "metadata": {},
   "outputs": [
    {
     "name": "stdout",
     "output_type": "stream",
     "text": [
      "10\n"
     ]
    }
   ],
   "source": [
    "a = np.array([1,2,3,4])\n",
    "b = np.array([4,4,4,4])\n",
    "print(np.sum(a))"
   ]
  },
  {
   "attachments": {},
   "cell_type": "markdown",
   "metadata": {},
   "source": [
    "### Gradient Descent"
   ]
  },
  {
   "attachments": {},
   "cell_type": "markdown",
   "metadata": {},
   "source": [
    "- Hyperparameters\n",
    "    - beta\n",
    "    - eta\n",
    "    "
   ]
  },
  {
   "attachments": {},
   "cell_type": "markdown",
   "metadata": {},
   "source": [
    "The Loss function is the 2 norm of ||y - Xw||, which the gradient is:\n",
    "\n",
    "$\\triangledown L(w) = 2X^T(Xw-y)$"
   ]
  },
  {
   "attachments": {},
   "cell_type": "markdown",
   "metadata": {},
   "source": [
    "Linear Regression Algorithm modified from Assignment 1"
   ]
  },
  {
   "cell_type": "code",
   "execution_count": 12,
   "metadata": {},
   "outputs": [],
   "source": [
    "def linear_regression(x_train, y_train, x_test, w):\n",
    "    # add a dummy one feature to each x_train and  point\n",
    "    # Making X matrices\n",
    "    x_train = np.hstack([np.ones((x_train.shape[0], 1)), x_train])\n",
    "    x_test = np.hstack([np.ones((x_test.shape[0], 1)), x_test])\n",
    "    # print(len(x_train)): Number of datapoints in D plus the dummy feature of all ones (D+1)\n",
    "    # print(len(x_train[0])): The number of features (N)\n",
    "\n",
    "    # Economy SVD\n",
    "    U, sigma, V_t = scipy.linalg.svd(x_train, full_matrices=False, compute_uv=True)\n",
    "    w = V_t.T.dot(U.T.dot(y_train) / np.reshape(sigma, (-1,1))) # -1 to let the program reshape by itself\n",
    "    return x_test.dot(w) # the weighted prediction of test data\n",
    "\n",
    "def lin_reg_loss(x, y, w):\n",
    "    return np.mean(np.square(y - x.dot(w)))\n",
    "\n",
    "    \n",
    "def linear_regression_gradient(x, y, w):\n",
    "    return 2 * x.T.dot(x.dot(w) - y) / len(x)"
   ]
  },
  {
   "attachments": {},
   "cell_type": "markdown",
   "metadata": {},
   "source": [
    "Full-Batch on pumadyn dataset"
   ]
  },
  {
   "cell_type": "code",
   "execution_count": 11,
   "metadata": {},
   "outputs": [
    {
     "name": "stderr",
     "output_type": "stream",
     "text": [
      "C:\\Users\\Brian\\AppData\\Local\\Packages\\PythonSoftwareFoundation.Python.3.8_qbz5n2kfra8p0\\LocalCache\\local-packages\\Python38\\site-packages\\numpy\\core\\_methods.py:180: RuntimeWarning: overflow encountered in reduce\n",
      "  ret = umr_sum(arr, axis, dtype, out, keepdims, where=where)\n",
      "C:\\Users\\Brian\\AppData\\Local\\Temp\\ipykernel_8160\\3178989931.py:36: RuntimeWarning: overflow encountered in square\n",
      "  l = np.mean(np.square(y_train - x_train.dot(w)))\n",
      "C:\\Users\\Brian\\AppData\\Local\\Temp\\ipykernel_8160\\341113367.py:21: RuntimeWarning: overflow encountered in multiply\n",
      "  return 2 * x.T.dot(x.dot(w) - y)\n"
     ]
    },
    {
     "data": {
      "image/png": "[encoded data removed]",
      "text/plain": [
       "<Figure size 640x480 with 1 Axes>"
      ]
     },
     "metadata": {},
     "output_type": "display_data"
    }
   ],
   "source": [
    "x_train, x_valid, x_test, y_train, y_valid, y_test = load_dataset('pumadyn32nm')\n",
    "\n",
    "x_train = np.vstack([x_train, x_valid])\n",
    "y_train = np.vstack([y_train, y_valid])\n",
    "\n",
    "# take the first 1000 points: add in the ones vector x_0\n",
    "x_train = x_train[0:1000]\n",
    "x_train = np.hstack([np.ones((x_train.shape[0], 1)), x_train])\n",
    "y_train = y_train[0:1000]\n",
    "# initialize the weight vector w = 0\n",
    "w = np.zeros([len(x_train[0]), 1])\n",
    "\n",
    "# choose hyperparameters: test on the dataset\n",
    "# k = 1\n",
    "# eta = [0.0001, 0.001, 0.01, 0.1, 0.5, 1, 100]\n",
    "best_eta = None\n",
    "best_eta_RMSE = float('inf')\n",
    "\n",
    "stop = 100000\n",
    "w = np.zeros([len(x_train[0]), 1])\n",
    "\n",
    "# plotting \n",
    "loss = []\n",
    "iterations = [x for x in range(1, stop+1)]\n",
    "\n",
    "\n",
    "for eta in [0.0001, 0.001, 0.01, 0.1, 0.5, 1]:\n",
    "    loss = [] # clear loss array between etas\n",
    "    w = np.zeros([len(x_train[0]), 1])\n",
    "    for k in range(stop):\n",
    "        # gradient descent\n",
    "        g = linear_regression_gradient(x_train, y_train, w)\n",
    "        w = w - eta * g\n",
    "        # loss for this iteration is the average of the l2 loss function\n",
    "        l = lin_reg_loss(x_train, y_train, w)\n",
    "        loss.append(l)\n",
    "\n",
    "    # choose eta using the final weights\n",
    "    if np.sqrt(np.mean(np.square(y_train - x_train.dot(w)))) < best_eta_RMSE:\n",
    "        best_eta_RMSE = np.sqrt(np.mean(np.square(y_train - x_train.dot(w))))\n",
    "        best_eta = eta\n",
    "    plt.figure()\n",
    "    plt.plot(iterations, loss)\n",
    "\n",
    "\n",
    "\n",
    "\n",
    "\n",
    "\n",
    "\n",
    "\n",
    "\n",
    "\n",
    "\n",
    "\n",
    "\n",
    "\n",
    "\n",
    "\n",
    "\n",
    "\n",
    "\n",
    "# for n in eta:\n",
    "#     k = 1\n",
    "#     # no need to store away weights in training \n",
    "#     w_k = np.zeros([len(x_train[0]), 1])\n",
    "#     w_k_1 = np.zeros([len(x_train[0]), 1])\n",
    "#     # stopping condition: #  10000 iterations\n",
    "#     while k < stop:\n",
    "#         w_k = w_k_1\n",
    "#         # compute gradient of the l2 weight loss function, averaged over N:\n",
    "#         g = 2 * x_train.T.dot(x_train.dot(w_k) - y_train)\n",
    "#         # compute gradient descent update rule: WILL CHANGE DEPENDING ON METHOD\n",
    "#         w_k_1 = w_k - (n/k) * g\n",
    "#         # increment count\n",
    "#         k += 1\n",
    "#     # the prediction is x_train.dot(w_k_1)\n",
    "#     if np.sqrt(np.mean(np.square(y_train - x_train.dot(w_k_1)))) < best_eta_RMSE:\n",
    "#         best_eta_RMSE = np.sqrt(np.mean(np.square(y_train - x_train.dot(w_k_1))))\n",
    "#         best_eta = n\n",
    "#     print(w_k_1 - w_k)\n",
    "\n",
    "# print('best eta:', n, ' with RMSE', best_eta_RMSE)\n",
    "\n",
    "\n"
   ]
  },
  {
   "cell_type": "code",
   "execution_count": null,
   "metadata": {},
   "outputs": [],
   "source": []
  }
 ],
 "metadata": {
  "kernelspec": {
   "display_name": "Python 3",
   "language": "python",
   "name": "python3"
  },
  "language_info": {
   "codemirror_mode": {
    "name": "ipython",
    "version": 3
   },
   "file_extension": ".py",
   "mimetype": "text/x-python",
   "name": "python",
   "nbconvert_exporter": "python",
   "pygments_lexer": "ipython3",
   "version": "3.8.3"
  },
  "orig_nbformat": 4,
  "vscode": {
   "interpreter": {
    "hash": "4258d01c5deb34cc98ed3d95cb9eba11316470bc0f05d4178ec7ed26600be0db"
   }
  }
 },
 "nbformat": 4,
 "nbformat_minor": 2
}
